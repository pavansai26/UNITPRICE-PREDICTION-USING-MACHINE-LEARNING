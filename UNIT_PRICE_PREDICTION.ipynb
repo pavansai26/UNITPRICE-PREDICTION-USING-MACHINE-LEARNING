{
  "nbformat": 4,
  "nbformat_minor": 0,
  "metadata": {
    "colab": {
      "name": "UNIT PRICE PREDICTION.ipynb",
      "private_outputs": true,
      "provenance": [],
      "authorship_tag": "ABX9TyNbuS4XvEQV+paaYpngenq5",
      "include_colab_link": true
    },
    "kernelspec": {
      "name": "python3",
      "display_name": "Python 3"
    }
  },
  "cells": [
    {
      "cell_type": "markdown",
      "metadata": {
        "id": "view-in-github",
        "colab_type": "text"
      },
      "source": [
        "<a href=\"https://colab.research.google.com/github/pavansai26/UNITPRICE-PREDICTION-USING-MACHINE-LEARNING/blob/main/UNIT_PRICE_PREDICTION.ipynb\" target=\"_parent\"><img src=\"https://colab.research.google.com/assets/colab-badge.svg\" alt=\"Open In Colab\"/></a>"
      ]
    },
    {
      "cell_type": "markdown",
      "metadata": {
        "id": "rvAVJTb3NsWW"
      },
      "source": [
        "# **problem statement**"
      ]
    },
    {
      "cell_type": "markdown",
      "metadata": {
        "id": "xqgkiTVrNyHv"
      },
      "source": [
        "# predicting the unit price"
      ]
    },
    {
      "cell_type": "markdown",
      "metadata": {
        "id": "9JATxcp64MVF"
      },
      "source": [
        "# **Attribute Description**"
      ]
    },
    {
      "cell_type": "markdown",
      "metadata": {
        "id": "CLOeb0BY4TcE"
      },
      "source": [
        "# Invoice No - Invoice ID, encoded as Label\n",
        "#StockCode - Unique code per stock, encoded as Label\n",
        "\n",
        "#Description - The Description, encoded as Label\n",
        "\n",
        "#Quantity - Quantity purchased\n",
        "\n",
        "#InvoiceDate - Date of purchase\n",
        "\n",
        "#UnitPrice - The target value, price of every product\n",
        "\n",
        "#CustomerID - Unique Identifier for every Customer\n",
        "\n",
        "#Country - Country of sales, encoded as Label"
      ]
    },
    {
      "cell_type": "markdown",
      "metadata": {
        "id": "IFI4jfWAOez-"
      },
      "source": [
        "# importing the necessary libraries"
      ]
    },
    {
      "cell_type": "code",
      "metadata": {
        "id": "XAf3GvIDNcXN"
      },
      "source": [
        "import numpy as np \n",
        "import pandas as pd\n",
        "import matplotlib.pyplot as plt\n",
        "import seaborn as sns"
      ],
      "execution_count": null,
      "outputs": []
    },
    {
      "cell_type": "markdown",
      "metadata": {
        "id": "v2SqNvTZM00c"
      },
      "source": [
        "# **Plotting style**"
      ]
    },
    {
      "cell_type": "code",
      "metadata": {
        "id": "odpUu3dbMxGP"
      },
      "source": [
        "\n",
        "sns.set_style(\"whitegrid\")\n",
        "sns.set_palette(\"muted\")\n"
      ],
      "execution_count": null,
      "outputs": []
    },
    {
      "cell_type": "markdown",
      "metadata": {
        "id": "R2T2gMQMO4zC"
      },
      "source": [
        "# **importingthe model building libraries**"
      ]
    },
    {
      "cell_type": "code",
      "metadata": {
        "id": "gSEQiSRONjCG"
      },
      "source": [
        "from sklearn.linear_model import LinearRegression\n",
        "from sklearn.linear_model import Lasso\n",
        "from sklearn.linear_model import ElasticNet\n",
        "from sklearn.tree import DecisionTreeRegressor\n",
        "from sklearn.neighbors import KNeighborsRegressor\n",
        "from sklearn.ensemble import GradientBoostingRegressor\n",
        "from sklearn.preprocessing import MinMaxScaler\n",
        "from sklearn.model_selection import KFold\n",
        "from sklearn.model_selection import cross_val_score\n",
        "from sklearn.model_selection import train_test_split\n",
        "from sklearn.preprocessing import PowerTransformer\n",
        "from sklearn.pipeline import Pipeline"
      ],
      "execution_count": null,
      "outputs": []
    },
    {
      "cell_type": "markdown",
      "metadata": {
        "id": "vuAWv6DuO4g1"
      },
      "source": [
        "# ignoring the warnings"
      ]
    },
    {
      "cell_type": "code",
      "metadata": {
        "id": "SduNSnBgOsGp"
      },
      "source": [
        "import warnings\n",
        "warnings.filterwarnings('ignore',category = DeprecationWarning)\n",
        "warnings.filterwarnings('ignore',category = UserWarning)\n",
        "warnings.filterwarnings('ignore',category = RuntimeWarning)\n",
        "warnings.filterwarnings('ignore',category = FutureWarning)"
      ],
      "execution_count": null,
      "outputs": []
    },
    {
      "cell_type": "markdown",
      "metadata": {
        "id": "twRJfR5TPBpA"
      },
      "source": [
        "# **setting the no.of rows and columns**"
      ]
    },
    {
      "cell_type": "code",
      "metadata": {
        "id": "wYCmGD65O-FP"
      },
      "source": [
        "pd.set_option('display.max_rows',100000)\n",
        "pd.set_option('display.max_columns',1000)"
      ],
      "execution_count": null,
      "outputs": []
    },
    {
      "cell_type": "markdown",
      "metadata": {
        "id": "uRMquta7PJJT"
      },
      "source": [
        "# **accesing the drive**"
      ]
    },
    {
      "cell_type": "code",
      "metadata": {
        "id": "zqkt5D5dPGV0"
      },
      "source": [
        "from google.colab import drive\n",
        "drive.mount('/gdrive')"
      ],
      "execution_count": null,
      "outputs": []
    },
    {
      "cell_type": "markdown",
      "metadata": {
        "id": "M2evOHzcPbny"
      },
      "source": [
        "# **Read training Data**"
      ]
    },
    {
      "cell_type": "code",
      "metadata": {
        "id": "G5hb7FDvPN7u"
      },
      "source": [
        "df_train = pd.read_csv('/gdrive/My Drive/Colab Notebooks/Participants_Data_TGIH 2/Train.csv')"
      ],
      "execution_count": null,
      "outputs": []
    },
    {
      "cell_type": "markdown",
      "metadata": {
        "id": "3zUZrN4bQOzo"
      },
      "source": [
        "# **printing the data only top 5**"
      ]
    },
    {
      "cell_type": "code",
      "metadata": {
        "id": "zSUNNN_UQHnW"
      },
      "source": [
        "df_train.head()"
      ],
      "execution_count": null,
      "outputs": []
    },
    {
      "cell_type": "markdown",
      "metadata": {
        "id": "-tcqBNErQWeC"
      },
      "source": [
        "# **Read testing data**"
      ]
    },
    {
      "cell_type": "code",
      "metadata": {
        "id": "h0yJMp6JQRQJ"
      },
      "source": [
        "df_test = pd.read_csv('/gdrive/My Drive/Colab Notebooks/Participants_Data_TGIH 2/Test.csv')"
      ],
      "execution_count": null,
      "outputs": []
    },
    {
      "cell_type": "markdown",
      "metadata": {
        "id": "hdWypN5-Qm6F"
      },
      "source": [
        "# **printing the data only top 5**"
      ]
    },
    {
      "cell_type": "code",
      "metadata": {
        "id": "NZI6atmSQkUk"
      },
      "source": [
        "df_test.head()"
      ],
      "execution_count": null,
      "outputs": []
    },
    {
      "cell_type": "markdown",
      "metadata": {
        "id": "ROuw3YTRQ2s9"
      },
      "source": [
        "# **information about the data**"
      ]
    },
    {
      "cell_type": "code",
      "metadata": {
        "id": "Tpys5mIRQr5o"
      },
      "source": [
        "df_train.info()"
      ],
      "execution_count": null,
      "outputs": []
    },
    {
      "cell_type": "markdown",
      "metadata": {
        "id": "KIJ_H9ta31ll"
      },
      "source": [
        "# As we can see, the train dataset contains more than 250000 rows. Fortunately, the train set does not contain any null values, so it is one less thing to worry about.\n",
        "\n",
        "\n",
        "\n"
      ]
    },
    {
      "cell_type": "markdown",
      "metadata": {
        "id": "Feo3dkQ138CO"
      },
      "source": [
        "# Also, most of the columns of the dataset are of numeric type. Only one column InvoiceDate is of object type. But we have yet to check the distribution of the columns which are encoded as Label in the dataset:"
      ]
    },
    {
      "cell_type": "code",
      "metadata": {
        "id": "Z1rte5ZwQ88u"
      },
      "source": [
        "print('observations and features in the train dataset :') \n",
        "print(df_train.shape)"
      ],
      "execution_count": null,
      "outputs": []
    },
    {
      "cell_type": "markdown",
      "metadata": {
        "id": "IE3A_zF0R6zT"
      },
      "source": [
        "# **DATA CLEANING**"
      ]
    },
    {
      "cell_type": "markdown",
      "metadata": {
        "id": "uZIifP4iSSjd"
      },
      "source": [
        "# **CHECKING FOR NULL VALUES**"
      ]
    },
    {
      "cell_type": "code",
      "metadata": {
        "id": "a7OdHWGsRZk5"
      },
      "source": [
        "data = df_train\n",
        "data.isnull().sum()"
      ],
      "execution_count": null,
      "outputs": []
    },
    {
      "cell_type": "markdown",
      "metadata": {
        "id": "DjqxBuDDSkM_"
      },
      "source": [
        "# there are no null values in the data"
      ]
    },
    {
      "cell_type": "markdown",
      "metadata": {
        "id": "ceAhmJgA47KE"
      },
      "source": [
        "# **CHECKING NULL VALUES IN THE TEST DATSET**"
      ]
    },
    {
      "cell_type": "code",
      "metadata": {
        "id": "X82p4idN5FM9"
      },
      "source": [
        "df_test.isnull().sum()"
      ],
      "execution_count": null,
      "outputs": []
    },
    {
      "cell_type": "markdown",
      "metadata": {
        "id": "aQkkfoVU5ROo"
      },
      "source": [
        "# Similarly for test set, there isn't any null values which is a good news. "
      ]
    },
    {
      "cell_type": "markdown",
      "metadata": {
        "id": "4nKsHzE0T9KZ"
      },
      "source": [
        "# **seperate Categorical columns**"
      ]
    },
    {
      "cell_type": "code",
      "metadata": {
        "id": "-RRp7VMiSgbZ"
      },
      "source": [
        "cat_cols = data.select_dtypes(include= ['object','category']).columns.tolist()\n",
        "print(cat_cols)"
      ],
      "execution_count": null,
      "outputs": []
    },
    {
      "cell_type": "markdown",
      "metadata": {
        "id": "5oq-2SQQU4Wl"
      },
      "source": [
        "# **seperate numerical columns**"
      ]
    },
    {
      "cell_type": "code",
      "metadata": {
        "id": "cLnywdfUUYOJ"
      },
      "source": [
        "num_cols = data.select_dtypes(include=['int64','float64']).columns.tolist()\n",
        "print(num_cols)"
      ],
      "execution_count": null,
      "outputs": []
    },
    {
      "cell_type": "markdown",
      "metadata": {
        "id": "O93sRE6bWzKO"
      },
      "source": [
        "# **Get number of unique entries in each column with categorical data**"
      ]
    },
    {
      "cell_type": "code",
      "metadata": {
        "id": "rpFkfpAVYazx"
      },
      "source": [
        "data['InvoiceDate'].nunique()"
      ],
      "execution_count": null,
      "outputs": []
    },
    {
      "cell_type": "markdown",
      "metadata": {
        "id": "MaVVrJCUY79A"
      },
      "source": [
        "# **Drop irrelavent columns**"
      ]
    },
    {
      "cell_type": "code",
      "metadata": {
        "id": "P9-SheVlY3O1"
      },
      "source": [
        "data_new = data.drop(['InvoiceDate','InvoiceNo'],axis=1, inplace= False)"
      ],
      "execution_count": null,
      "outputs": []
    },
    {
      "cell_type": "markdown",
      "metadata": {
        "id": "U2G5dhe4ZlHU"
      },
      "source": [
        "# **printing the data only top 5**"
      ]
    },
    {
      "cell_type": "code",
      "metadata": {
        "id": "QZL_DQXGZilR"
      },
      "source": [
        "data_new.head()"
      ],
      "execution_count": null,
      "outputs": []
    },
    {
      "cell_type": "markdown",
      "metadata": {
        "id": "Umth5ie7Z2kl"
      },
      "source": [
        "# **exploring the data**"
      ]
    },
    {
      "cell_type": "code",
      "metadata": {
        "id": "aaLhbwxcZqKe"
      },
      "source": [
        "data_new.describe().T"
      ],
      "execution_count": null,
      "outputs": []
    },
    {
      "cell_type": "markdown",
      "metadata": {
        "id": "A-cbIdz7aKkF"
      },
      "source": [
        "# **Check for skewness in the dataset**"
      ]
    },
    {
      "cell_type": "code",
      "metadata": {
        "id": "Miu_IZKJZ-Yy"
      },
      "source": [
        "data_new.skew()"
      ],
      "execution_count": null,
      "outputs": []
    },
    {
      "cell_type": "code",
      "metadata": {
        "id": "1_4nKZ2GaQfz"
      },
      "source": [
        "fig = plt.figure(figsize=(8, 6))\n",
        "data_new.UnitPrice.hist(bins = 30)"
      ],
      "execution_count": null,
      "outputs": []
    },
    {
      "cell_type": "markdown",
      "metadata": {
        "id": "dneSMIzq5yjb"
      },
      "source": [
        "# From the above plot, it can be easily seen that the target column is heavily right skewed. This might help us to figure out the cross validation strategies for the dataset. With that being said, let's go ahead and check other columns."
      ]
    },
    {
      "cell_type": "code",
      "metadata": {
        "id": "eCmoH9UnvGoz"
      },
      "source": [
        "corr = data_new.corr()\n",
        "\n",
        "plt.figure(figsize= (10,9))\n",
        "sns.heatmap(corr, annot = True, cmap = 'Blues')\n",
        "plt.title(\"Feature Correlation Heatmap\")\n",
        "plt.show()"
      ],
      "execution_count": null,
      "outputs": []
    },
    {
      "cell_type": "markdown",
      "metadata": {
        "id": "xVTTzFaINvO5"
      },
      "source": [
        "# We could see some non-zero correlation between Country and CustomerID column, though this small positive correlation did not conveyed anything meaningful. "
      ]
    },
    {
      "cell_type": "markdown",
      "metadata": {
        "id": "xpdYizdGNzpf"
      },
      "source": [
        "# This can be easily seen by an example: the country with code 35 has customers with larger customer ids.\n",
        "\n"
      ]
    },
    {
      "cell_type": "markdown",
      "metadata": {
        "id": "trUj_FrHN3Rb"
      },
      "source": [
        "# It might be interesting to see the correlation of the target column with the rest."
      ]
    },
    {
      "cell_type": "code",
      "metadata": {
        "id": "CZtcKnPJv_S0"
      },
      "source": [
        "corr.UnitPrice.sort_values(ascending=False)\n"
      ],
      "execution_count": null,
      "outputs": []
    },
    {
      "cell_type": "markdown",
      "metadata": {
        "id": "BSFeC04GOGHW"
      },
      "source": [
        "# It looks like the target column has a very small positive correlation with StockCodecolumn. Rest of the columns have almost negligible dependence on UnitPrice."
      ]
    },
    {
      "cell_type": "markdown",
      "metadata": {
        "id": "GgDvD4od6fJx"
      },
      "source": [
        "# **Checking the country column for unique countries**"
      ]
    },
    {
      "cell_type": "code",
      "metadata": {
        "id": "BYRBgOsJ6eir"
      },
      "source": [
        "print(data_new.Country.unique())"
      ],
      "execution_count": null,
      "outputs": []
    },
    {
      "cell_type": "markdown",
      "metadata": {
        "id": "rBtYgqtz8NHX"
      },
      "source": [
        "# **Filter out the top 5 countries**"
      ]
    },
    {
      "cell_type": "code",
      "metadata": {
        "id": "3qxyFsTz6qHz"
      },
      "source": [
        "top5_countries = data_new.Country.value_counts().iloc[:5].index.tolist()\n",
        "print(top5_countries)"
      ],
      "execution_count": null,
      "outputs": []
    },
    {
      "cell_type": "code",
      "metadata": {
        "id": "g0IyMAsz8nIY"
      },
      "source": [
        "fig = plt.figure(figsize=(10, 10))\n",
        "sns.countplot(y = data_new.Country)\n",
        "plt.show()"
      ],
      "execution_count": null,
      "outputs": []
    },
    {
      "cell_type": "markdown",
      "metadata": {
        "id": "Dtq2GhHa9Gyo"
      },
      "source": [
        "# From above, it looks like Country column is categorical where the numbers might represent the country code."
      ]
    },
    {
      "cell_type": "markdown",
      "metadata": {
        "id": "mczrffIa9PT1"
      },
      "source": [
        "#  This means we need to further process it appropriately before putting it in the machine learning model. "
      ]
    },
    {
      "cell_type": "markdown",
      "metadata": {
        "id": "eOw2wlQ99THR"
      },
      "source": [
        "# We also need to check other columns which are label encoded."
      ]
    },
    {
      "cell_type": "code",
      "metadata": {
        "id": "h2F2voH286W1"
      },
      "source": [
        "data_new['CustomerID'].nunique()"
      ],
      "execution_count": null,
      "outputs": []
    },
    {
      "cell_type": "markdown",
      "metadata": {
        "id": "ptXCBqKOHb_C"
      },
      "source": [
        "# There are around 4339 unique customers spreaded across 37 different countries."
      ]
    },
    {
      "cell_type": "markdown",
      "metadata": {
        "id": "zkYfYK-uHq84"
      },
      "source": [
        "# **Filter out the top 5 customers**"
      ]
    },
    {
      "cell_type": "code",
      "metadata": {
        "id": "covXNEWLFZBc"
      },
      "source": [
        "top5_customers = data_new.CustomerID.value_counts().iloc[:5].index.tolist()\n",
        "print(top5_customers)"
      ],
      "execution_count": null,
      "outputs": []
    },
    {
      "cell_type": "markdown",
      "metadata": {
        "id": "ovTeulYQIKyW"
      },
      "source": [
        "# **Dataframe containing only top customers**"
      ]
    },
    {
      "cell_type": "code",
      "metadata": {
        "id": "IZpHdZHkH-vs"
      },
      "source": [
        "top_customer_countries_df = data_new[data_new['CustomerID'].isin(top5_customers)]\n",
        "top_customer_countries_df\n"
      ],
      "execution_count": null,
      "outputs": []
    },
    {
      "cell_type": "markdown",
      "metadata": {
        "id": "Gm_Rg4yVI5GR"
      },
      "source": [
        "# **top5 customers belonging to which country and dataframe**"
      ]
    },
    {
      "cell_type": "code",
      "metadata": {
        "id": "UnFcMKGeIuVg"
      },
      "source": [
        "top_customer_countries_df.head()\n"
      ],
      "execution_count": null,
      "outputs": []
    },
    {
      "cell_type": "code",
      "metadata": {
        "id": "yu9PMaz2I27P"
      },
      "source": [
        "top_customer_countries_df.nunique()"
      ],
      "execution_count": null,
      "outputs": []
    },
    {
      "cell_type": "code",
      "metadata": {
        "id": "Sq414bwwLh5a"
      },
      "source": [
        "fig = plt.figure(figsize=(15, 15))\n",
        "sns.catplot(x=\"CustomerID\", y=\"UnitPrice\", hue=\"Country\", alpha=0.5, markers=[\"^\", \"o\"], linestyles=['-', '-.'], kind=\"point\", height=6, aspect=0.9,\n",
        "            data=top_customer_countries_df)\n",
        "\n",
        "plt.show()"
      ],
      "execution_count": null,
      "outputs": []
    },
    {
      "cell_type": "markdown",
      "metadata": {
        "id": "oxKVM8oYNIxy"
      },
      "source": [
        "# From the above plot, there is only one top buyer from country with country code 10 and rest of them belong to country code 35. Also, the vertical bar on each data point shows, the spread of the unit price for the items they bought."
      ]
    },
    {
      "cell_type": "markdown",
      "metadata": {
        "id": "cH0WhQo2s_DW"
      },
      "source": [
        "# **Take dependent variable into y**\n",
        "\n",
        "\n",
        "\n"
      ]
    },
    {
      "cell_type": "code",
      "metadata": {
        "id": "l-doXfOlNH7I"
      },
      "source": [
        "y = data_new['UnitPrice']\n",
        "y.head(2)"
      ],
      "execution_count": null,
      "outputs": []
    },
    {
      "cell_type": "code",
      "metadata": {
        "id": "btcATUatvIQl"
      },
      "source": [
        "y = y.values.reshape(-1,1)"
      ],
      "execution_count": null,
      "outputs": []
    },
    {
      "cell_type": "markdown",
      "metadata": {
        "id": "SQotPKxithzo"
      },
      "source": [
        "# **Take independent variable into x**"
      ]
    },
    {
      "cell_type": "code",
      "metadata": {
        "id": "37eFb36tMjmp"
      },
      "source": [
        "x = data_new.drop('UnitPrice',axis = 1)\n",
        "x.head(2)"
      ],
      "execution_count": null,
      "outputs": []
    },
    {
      "cell_type": "markdown",
      "metadata": {
        "id": "5L0NFqxZtzI0"
      },
      "source": [
        "# **DATA Transformation**"
      ]
    },
    {
      "cell_type": "markdown",
      "metadata": {
        "id": "PBmJb0tlt5DL"
      },
      "source": [
        "# **transforming the data into the normal distribution to improve the performace of the model**"
      ]
    },
    {
      "cell_type": "markdown",
      "metadata": {
        "id": "9VeHWilqucKA"
      },
      "source": [
        "# **To transform the data into normal distribution by using Power transformer method**"
      ]
    },
    {
      "cell_type": "markdown",
      "metadata": {
        "id": "JfOFlJRUvYLM"
      },
      "source": [
        "# **power transform the raw data**"
      ]
    },
    {
      "cell_type": "code",
      "metadata": {
        "id": "zIvMCP5Ttm1J"
      },
      "source": [
        "power = PowerTransformer(method='yeo-johnson', standardize=True)\n",
        "y = power.fit_transform(y)"
      ],
      "execution_count": null,
      "outputs": []
    },
    {
      "cell_type": "markdown",
      "metadata": {
        "id": "3NJdYw6qq4Lt"
      },
      "source": [
        "# **fitting different models using sklearn pipeline**"
      ]
    },
    {
      "cell_type": "code",
      "metadata": {
        "id": "9tGEf5dYvgfv"
      },
      "source": [
        "from numba import jit\n",
        "pipelines = []\n",
        "\n",
        "pipelines.append(('ScaledLR', Pipeline([('Scaler', MinMaxScaler()),('LR',LinearRegression())])))\n",
        "pipelines.append(('ScaledLASSo', Pipeline([('Scaler', MinMaxScaler()), ('LASSO', Lasso())])))\n",
        "pipelines.append(('ScaledEN', Pipeline([('Scaler', MinMaxScaler()),('EN', ElasticNet())])))\n",
        "pipelines.append(('ScaledKNN', Pipeline([('Scaler', MinMaxScaler()),('KNN', KNeighborsRegressor())])))\n",
        "pipelines.append(('ScaledCART', Pipeline([('Scaler', MinMaxScaler()),('CART', DecisionTreeRegressor())])))\n",
        "pipelines.append(('ScaledGBM', Pipeline([('Scaler', MinMaxScaler()),('GBM', GradientBoostingRegressor())])))\n",
        "\n",
        "\n",
        "results = []\n",
        "names = []\n",
        "\n",
        "\n",
        "for name, model in pipelines:\n",
        "  kfold = KFold(n_splits=10, random_state=21)\n",
        "  cv_results = cross_val_score(model, x, y, cv=kfold, scoring='neg_mean_squared_error')\n",
        "  results.append(cv_results)\n",
        "  names.append(name)\n",
        "  cv_info = \"%s: %f (%f)\" % (name, cv_results.mean(), cv_results.std())\n",
        "  print(cv_info)\n"
      ],
      "execution_count": null,
      "outputs": []
    },
    {
      "cell_type": "markdown",
      "metadata": {
        "id": "O2l5ba-ZrAZY"
      },
      "source": [
        "# **Drop irrelavent columns in test data**"
      ]
    },
    {
      "cell_type": "code",
      "metadata": {
        "id": "3bFAiCUTn5VA"
      },
      "source": [
        "df_test_new = df_test.drop(['InvoiceDate','InvoiceNo'],axis=1, inplace= False)\n",
        "df_test_new.head()"
      ],
      "execution_count": null,
      "outputs": []
    },
    {
      "cell_type": "markdown",
      "metadata": {
        "id": "dpd_x9f_0Aot"
      },
      "source": [
        "# **running for different K values to know which yields the max accuracy.**"
      ]
    },
    {
      "cell_type": "code",
      "metadata": {
        "id": "bebn72vUoknx"
      },
      "source": [
        "score = []\n",
        "\n",
        "for i in range(1,20):  \n",
        "  clf = KNeighborsRegressor(n_neighbors = i,  weights = 'distance', p=1)\n",
        "  clf.fit(x, y)\n",
        "  score.append(clf.score(x, y))"
      ],
      "execution_count": null,
      "outputs": []
    },
    {
      "cell_type": "markdown",
      "metadata": {
        "id": "5SP4Y7yz0NWO"
      },
      "source": [
        "# **printing the max accuracy value**"
      ]
    },
    {
      "cell_type": "code",
      "metadata": {
        "id": "c88K-CJ9pFfB"
      },
      "source": [
        "k_max = score.index(max(score))+1\n",
        "print( \"At K = {}, Max Accuracy = {}\".format(k_max, max(score)*100))"
      ],
      "execution_count": null,
      "outputs": []
    },
    {
      "cell_type": "markdown",
      "metadata": {
        "id": "lHNrZBP-1Fos"
      },
      "source": [
        "# **fitting the data to knn using which k value we got max accuracy**"
      ]
    },
    {
      "cell_type": "code",
      "metadata": {
        "id": "wG9WSW7K0f5c"
      },
      "source": [
        "clf = KNeighborsRegressor(n_neighbors = k_max,  weights = 'distance', p=1)\n",
        "clf.fit(x, y)\n",
        "print(clf.score(x, y))   \n"
      ],
      "execution_count": null,
      "outputs": []
    },
    {
      "cell_type": "markdown",
      "metadata": {
        "id": "F3_XL9dP2oel"
      },
      "source": [
        "# **predictions using test data**"
      ]
    },
    {
      "cell_type": "code",
      "metadata": {
        "id": "hk-v-xtn19xR"
      },
      "source": [
        "predictions = clf.predict(df_test_new)"
      ],
      "execution_count": null,
      "outputs": []
    },
    {
      "cell_type": "markdown",
      "metadata": {
        "id": "jHtEGeiJ2ui1"
      },
      "source": [
        "# **converting predictions to data frame**"
      ]
    },
    {
      "cell_type": "code",
      "metadata": {
        "id": "Gk_y6IXX2JxS"
      },
      "source": [
        "predict_df = pd.DataFrame(data=predictions)\n",
        "predict_df.head()"
      ],
      "execution_count": null,
      "outputs": []
    },
    {
      "cell_type": "markdown",
      "metadata": {
        "id": "MOceWzJ3_cxn"
      },
      "source": [
        "# **Applying inverse power transform to get back original form of unit price**"
      ]
    },
    {
      "cell_type": "code",
      "metadata": {
        "id": "ZEdrgGpG_SAn"
      },
      "source": [
        "inverse_transformed = power.inverse_transform(predict_df)\n",
        "inverse_transformed[:5]\n",
        "#due to array i used this"
      ],
      "execution_count": null,
      "outputs": []
    },
    {
      "cell_type": "markdown",
      "metadata": {
        "id": "t6nQYyHkAWzT"
      },
      "source": [
        "# **printing the final unitprice**"
      ]
    },
    {
      "cell_type": "code",
      "metadata": {
        "id": "gvXgaLxz_skU"
      },
      "source": [
        "final_result = pd.DataFrame(data=inverse_transformed).round(2)\n",
        "final_result.head()\n"
      ],
      "execution_count": null,
      "outputs": []
    },
    {
      "cell_type": "markdown",
      "metadata": {
        "id": "_vnpuwcNAcs5"
      },
      "source": [
        "# **converting final predictions to excel sheet**"
      ]
    },
    {
      "cell_type": "code",
      "metadata": {
        "id": "DX10Pc5v_97H"
      },
      "source": [
        "final_result.to_excel(\"UnitPricePrediction.xlsx\")"
      ],
      "execution_count": null,
      "outputs": []
    },
    {
      "cell_type": "code",
      "metadata": {
        "id": "SlFm1RpTAOdx"
      },
      "source": [
        ""
      ],
      "execution_count": null,
      "outputs": []
    }
  ]
}